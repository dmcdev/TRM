{
 "cells": [
  {
   "cell_type": "code",
   "execution_count": 4,
   "metadata": {},
   "outputs": [],
   "source": [
    "import pandas as pd"
   ]
  },
  {
   "cell_type": "code",
   "execution_count": 6,
   "metadata": {},
   "outputs": [],
   "source": [
    "df = pd.read_csv(\"../data/TRM.csv\")"
   ]
  },
  {
   "cell_type": "code",
   "execution_count": 8,
   "metadata": {},
   "outputs": [
    {
     "name": "stdout",
     "output_type": "stream",
     "text": [
      "       Domain                     SubDomain  \\\n",
      "0    Security               Data Protection   \n",
      "1    Security  Identity & Access Management   \n",
      "2    Security  Identity & Access Management   \n",
      "3    Security  Identity & Access Management   \n",
      "4    Security  Identity & Access Management   \n",
      "..        ...                           ...   \n",
      "506  Security  Identity & Access Management   \n",
      "507  Security  Identity & Access Management   \n",
      "508  Security  Identity & Access Management   \n",
      "509  Security  Identity & Access Management   \n",
      "510  Security  Identity & Access Management   \n",
      "\n",
      "                                       Capability  \\\n",
      "0                           Data Usage Monitoring   \n",
      "1    Access Management and Governance (Workforce)   \n",
      "2    Access Management and Governance (Workforce)   \n",
      "3    Access Management and Governance (Workforce)   \n",
      "4    Access Management and Governance (Workforce)   \n",
      "..                                            ...   \n",
      "506               Identity Management (Workforce)   \n",
      "507               Identity Management (Workforce)   \n",
      "508               Identity Management (Workforce)   \n",
      "509               Identity Management (Workforce)   \n",
      "510               Identity Management (Workforce)   \n",
      "\n",
      "                                             Component  Product ID  \n",
      "0                                        3rd Party DLP  ICTO-11221  \n",
      "1                                      Access Approval   ICTO-4950  \n",
      "2                                      Access Approval  ICTO-25463  \n",
      "3                                      Access Approval  ICTO-17719  \n",
      "4                                      Access Approval   ICTO-4638  \n",
      "..                                                 ...         ...  \n",
      "506  Workforce Identity Request, Modification and D...   ICTO-9240  \n",
      "507  Workforce Identity Request, Modification and D...   ICTO-9519  \n",
      "508    Workforce User Onboarding and Identity Creation  ICTO-27159  \n",
      "509    Workforce User Onboarding and Identity Creation   ICTO-9240  \n",
      "510    Workforce User Onboarding and Identity Creation   ICTO-9519  \n",
      "\n",
      "[511 rows x 5 columns]\n"
     ]
    }
   ],
   "source": [
    "print (df)"
   ]
  },
  {
   "cell_type": "code",
   "execution_count": null,
   "metadata": {},
   "outputs": [],
   "source": []
  },
  {
   "cell_type": "code",
   "execution_count": null,
   "metadata": {},
   "outputs": [],
   "source": []
  }
 ],
 "metadata": {
  "kernelspec": {
   "display_name": "Python 3",
   "language": "python",
   "name": "python3"
  },
  "language_info": {
   "codemirror_mode": {
    "name": "ipython",
    "version": 3
   },
   "file_extension": ".py",
   "mimetype": "text/x-python",
   "name": "python",
   "nbconvert_exporter": "python",
   "pygments_lexer": "ipython3",
   "version": "3.8.5"
  }
 },
 "nbformat": 4,
 "nbformat_minor": 4
}
