{
 "cells": [
  {
   "cell_type": "code",
   "execution_count": 4,
   "metadata": {},
   "outputs": [],
   "source": [
    "import pandas as pd"
   ]
  },
  {
   "cell_type": "code",
   "execution_count": 6,
   "metadata": {},
   "outputs": [],
   "source": [
    "df = pd.read_csv(\"../data/TRM.csv\")"
   ]
  },
  {
   "cell_type": "code",
   "execution_count": 14,
   "metadata": {},
   "outputs": [
    {
     "name": "stdout",
     "output_type": "stream",
     "text": [
      "       Domain                     SubDomain  \\\n",
      "0    Security               Data Protection   \n",
      "1    Security  Identity & Access Management   \n",
      "2    Security  Identity & Access Management   \n",
      "3    Security  Identity & Access Management   \n",
      "4    Security  Identity & Access Management   \n",
      "..        ...                           ...   \n",
      "506  Security  Identity & Access Management   \n",
      "507  Security  Identity & Access Management   \n",
      "508  Security  Identity & Access Management   \n",
      "509  Security  Identity & Access Management   \n",
      "510  Security  Identity & Access Management   \n",
      "\n",
      "                                       Capability  \\\n",
      "0                           Data Usage Monitoring   \n",
      "1    Access Management and Governance (Workforce)   \n",
      "2    Access Management and Governance (Workforce)   \n",
      "3    Access Management and Governance (Workforce)   \n",
      "4    Access Management and Governance (Workforce)   \n",
      "..                                            ...   \n",
      "506               Identity Management (Workforce)   \n",
      "507               Identity Management (Workforce)   \n",
      "508               Identity Management (Workforce)   \n",
      "509               Identity Management (Workforce)   \n",
      "510               Identity Management (Workforce)   \n",
      "\n",
      "                                             Component  Product ID  \n",
      "0                                        3rd Party DLP  ICTO-11221  \n",
      "1                                      Access Approval   ICTO-4950  \n",
      "2                                      Access Approval  ICTO-25463  \n",
      "3                                      Access Approval  ICTO-17719  \n",
      "4                                      Access Approval   ICTO-4638  \n",
      "..                                                 ...         ...  \n",
      "506  Workforce Identity Request, Modification and D...   ICTO-9240  \n",
      "507  Workforce Identity Request, Modification and D...   ICTO-9519  \n",
      "508    Workforce User Onboarding and Identity Creation  ICTO-27159  \n",
      "509    Workforce User Onboarding and Identity Creation   ICTO-9240  \n",
      "510    Workforce User Onboarding and Identity Creation   ICTO-9519  \n",
      "\n",
      "[511 rows x 5 columns]\n"
     ]
    }
   ],
   "source": [
    "print (df)"
   ]
  },
  {
   "cell_type": "code",
   "execution_count": null,
   "metadata": {},
   "outputs": [],
   "source": []
  },
  {
   "cell_type": "code",
   "execution_count": 15,
   "metadata": {},
   "outputs": [],
   "source": [
    "domain_map = df.filter(['Domain','SubDomain'])"
   ]
  },
  {
   "cell_type": "code",
   "execution_count": 19,
   "metadata": {},
   "outputs": [],
   "source": [
    "domain_map=domain_map.drop_duplicates()"
   ]
  },
  {
   "cell_type": "code",
   "execution_count": 20,
   "metadata": {},
   "outputs": [
    {
     "name": "stdout",
     "output_type": "stream",
     "text": [
      "       Domain                     SubDomain\n",
      "0    Security               Data Protection\n",
      "1    Security  Identity & Access Management\n",
      "81   Security          Application Security\n",
      "88   Security              Network Security\n",
      "125  Security                Cyber Security\n",
      "160  Security    Physical & Device Security\n",
      "174  Security      End User System Security\n",
      "218  Security                           GRC\n"
     ]
    }
   ],
   "source": [
    "print (domain_map)"
   ]
  },
  {
   "cell_type": "code",
   "execution_count": 22,
   "metadata": {},
   "outputs": [],
   "source": [
    "subdomain_map = df.filter(['SubDomain','Capability'])"
   ]
  },
  {
   "cell_type": "code",
   "execution_count": 24,
   "metadata": {},
   "outputs": [],
   "source": [
    "subdomain_map=subdomain_map.drop_duplicates()"
   ]
  },
  {
   "cell_type": "code",
   "execution_count": 25,
   "metadata": {},
   "outputs": [
    {
     "name": "stdout",
     "output_type": "stream",
     "text": [
      "                        SubDomain  \\\n",
      "0                 Data Protection   \n",
      "1    Identity & Access Management   \n",
      "46   Identity & Access Management   \n",
      "47   Identity & Access Management   \n",
      "79   Identity & Access Management   \n",
      "81           Application Security   \n",
      "88               Network Security   \n",
      "90                Data Protection   \n",
      "116  Identity & Access Management   \n",
      "125                Cyber Security   \n",
      "127                Cyber Security   \n",
      "131  Identity & Access Management   \n",
      "132               Data Protection   \n",
      "133                Cyber Security   \n",
      "136              Network Security   \n",
      "160    Physical & Device Security   \n",
      "162          Application Security   \n",
      "171                Cyber Security   \n",
      "174      End User System Security   \n",
      "218                           GRC   \n",
      "221      End User System Security   \n",
      "227              Network Security   \n",
      "300              Network Security   \n",
      "302              Network Security   \n",
      "317    Physical & Device Security   \n",
      "346      End User System Security   \n",
      "353          Application Security   \n",
      "375                           GRC   \n",
      "377                Cyber Security   \n",
      "380  Identity & Access Management   \n",
      "381          Application Security   \n",
      "385                Cyber Security   \n",
      "389                           GRC   \n",
      "396               Data Protection   \n",
      "402               Data Protection   \n",
      "427               Data Protection   \n",
      "461                Cyber Security   \n",
      "463  Identity & Access Management   \n",
      "\n",
      "                                       Capability  \n",
      "0                           Data Usage Monitoring  \n",
      "1    Access Management and Governance (Workforce)  \n",
      "46                    Privilege Access Management  \n",
      "47     Access Management and Governance (Clients)  \n",
      "79                  Authentication and Federation  \n",
      "81                            Governance & Design  \n",
      "88             Secure Network and Internet Access  \n",
      "90                    Encryption & Key Management  \n",
      "116                 Identity Management (Clients)  \n",
      "125                     Cyber Threat Intelligence  \n",
      "127                       Threat Defence Analysis  \n",
      "131                                   Credentials  \n",
      "132                           Document Management  \n",
      "133                            Security Analytics  \n",
      "136                            Network Protection  \n",
      "160                                  IoT Security  \n",
      "162                            Secure Integration  \n",
      "171                   Threat Detection & Response  \n",
      "174                           EUC Data Protection  \n",
      "218                                    Compliance  \n",
      "221                           Endpoint Protection  \n",
      "227                      Network Threat Detection  \n",
      "300                            Network Visibility  \n",
      "302                   Network Security Management  \n",
      "317                       Physical Access Systems  \n",
      "346                               Data Protection  \n",
      "353                            Secure Development  \n",
      "375                                          Risk  \n",
      "377                                        Fusion  \n",
      "380                                 Authorisation  \n",
      "381                            Secure Environment  \n",
      "385                      Attack Surface Reduction  \n",
      "389                                    Governance  \n",
      "396                                Data Discovery  \n",
      "402                      Structured Data Security  \n",
      "427                    Unstructured Data Security  \n",
      "461         Security Orchestration and Automation  \n",
      "463               Identity Management (Workforce)  \n"
     ]
    }
   ],
   "source": [
    "print (subdomain_map)"
   ]
  },
  {
   "cell_type": "code",
   "execution_count": 27,
   "metadata": {},
   "outputs": [
    {
     "name": "stdout",
     "output_type": "stream",
     "text": [
      "                                       Capability  \\\n",
      "0                           Data Usage Monitoring   \n",
      "1    Access Management and Governance (Workforce)   \n",
      "23   Access Management and Governance (Workforce)   \n",
      "46                    Privilege Access Management   \n",
      "47     Access Management and Governance (Clients)   \n",
      "..                                            ...   \n",
      "476               Identity Management (Workforce)   \n",
      "483               Identity Management (Workforce)   \n",
      "488               Identity Management (Workforce)   \n",
      "504               Identity Management (Workforce)   \n",
      "508               Identity Management (Workforce)   \n",
      "\n",
      "                                             Component  \n",
      "0                                        3rd Party DLP  \n",
      "1                                      Access Approval  \n",
      "23                                Access Certification  \n",
      "46                  Access Control for Shared Accounts  \n",
      "47        Access Management/Authorisation Capabilities  \n",
      "..                                                 ...  \n",
      "476  Workforce Identity Lifecycle Management and Id...  \n",
      "483                    Workforce Identity Provisioning  \n",
      "488                      Workforce Identity Repository  \n",
      "504  Workforce Identity Request, Modification and D...  \n",
      "508    Workforce User Onboarding and Identity Creation  \n",
      "\n",
      "[116 rows x 2 columns]\n"
     ]
    }
   ],
   "source": [
    "cap_map = df.filter(['Capability','Component'])\n",
    "cap_map=cap_map.drop_duplicates()\n",
    "print (cap_map)"
   ]
  },
  {
   "cell_type": "code",
   "execution_count": null,
   "metadata": {},
   "outputs": [],
   "source": []
  }
 ],
 "metadata": {
  "kernelspec": {
   "display_name": "Python 3",
   "language": "python",
   "name": "python3"
  },
  "language_info": {
   "codemirror_mode": {
    "name": "ipython",
    "version": 3
   },
   "file_extension": ".py",
   "mimetype": "text/x-python",
   "name": "python",
   "nbconvert_exporter": "python",
   "pygments_lexer": "ipython3",
   "version": "3.8.5"
  }
 },
 "nbformat": 4,
 "nbformat_minor": 4
}
